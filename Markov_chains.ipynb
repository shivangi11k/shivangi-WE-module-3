{
  "nbformat": 4,
  "nbformat_minor": 0,
  "metadata": {
    "colab": {
      "provenance": []
    },
    "kernelspec": {
      "name": "python3",
      "display_name": "Python 3"
    },
    "language_info": {
      "name": "python"
    }
  },
  "cells": [
    {
      "cell_type": "code",
      "source": [
        "print(\"hello\")"
      ],
      "metadata": {
        "colab": {
          "base_uri": "https://localhost:8080/"
        },
        "id": "F1cnzTp3BtdB",
        "outputId": "b6a43062-6a3c-426a-9d14-9650445dbf06"
      },
      "execution_count": 4,
      "outputs": [
        {
          "output_type": "stream",
          "name": "stdout",
          "text": [
            "hello\n"
          ]
        }
      ]
    },
    {
      "cell_type": "code",
      "source": [
        "import random\n",
        "from collections import defaultdict\n",
        "\n",
        "def build_markov_chain(text, chain_length):\n",
        "    markov_chain = defaultdict(list)\n",
        "    words = text.split()\n",
        "\n",
        "    for i in range(len(words) - chain_length):\n",
        "        key = tuple(words[i:i + chain_length])\n",
        "        markov_chain[key].append(words[i + chain_length])\n",
        "\n",
        "    return markov_chain\n",
        "\n",
        "def generate_text(markov_chain, start_words, num_generated):\n",
        "    generated_text = list(start_words)\n",
        "    chain_length = len(start_words)\n",
        "\n",
        "    for _ in range(num_generated):\n",
        "        key = tuple(generated_text[-chain_length:])\n",
        "        possible_next_words = markov_chain.get(key, None)\n",
        "        if possible_next_words:\n",
        "            next_word = random.choice(possible_next_words)\n",
        "            generated_text.append(next_word)\n",
        "        else:\n",
        "            break\n",
        "\n",
        "    return ' '.join(generated_text)\n",
        "\n",
        "def generate_from_text(text, start_words, chain_length, num_generated):\n",
        "    markov_chain = build_markov_chain(text, chain_length)\n",
        "    generated_text = generate_text(markov_chain, start_words, num_generated)\n",
        "\n",
        "    return generated_text\n",
        "\n",
        "# Example usage:\n",
        "example_text = \"The quick brown fox jumps over the lazy dog.\"\n",
        "start_words = [\"The\", \"quick\", \"brown\"]\n",
        "chain_length = 2\n",
        "num_generated = 20\n",
        "\n",
        "generated_text = generate_from_text(example_text, start_words, chain_length, num_generated)\n",
        "print(generated_text)"
      ],
      "metadata": {
        "colab": {
          "base_uri": "https://localhost:8080/"
        },
        "id": "SH7QlImCCZbL",
        "outputId": "2f2ac5f7-2e7d-4989-abd7-7a7761391ef2"
      },
      "execution_count": 6,
      "outputs": [
        {
          "output_type": "stream",
          "name": "stdout",
          "text": [
            "The quick brown\n"
          ]
        }
      ]
    }
  ]
}